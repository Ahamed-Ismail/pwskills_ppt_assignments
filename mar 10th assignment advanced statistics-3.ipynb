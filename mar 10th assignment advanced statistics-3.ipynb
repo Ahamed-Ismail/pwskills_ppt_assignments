{
 "cells": [
  {
   "cell_type": "markdown",
   "id": "0b0f41aa",
   "metadata": {},
   "source": [
    "## Q1: What is Estimation Statistics? Explain point estimate and interval estimate.\n",
    "\n",
    "Estimation statistics is a branch of statistics that deals with making predictions or inferences about population parameters based on sample data. It involves using sample statistics to estimate unknown population parameters. Estimation is an essential aspect of statistical analysis as it allows us to draw conclusions about a population without having to examine every individual in that population.\n",
    "\n",
    "There are two main types of estimation: point estimation and interval estimation.\n",
    "\n",
    "1. Point Estimate:\n",
    "A point estimate is a single value that is used to estimate an unknown population parameter. It is obtained from the sample data and is considered a \"best guess\" of the true population parameter. For example, if we want to estimate the average height of students in a school, we can calculate the mean height of a sample of students and use that value as our point estimate for the population's mean height.\n",
    "\n",
    "While point estimates provide a quick and straightforward way to estimate population parameters, they do not give any information about the uncertainty associated with the estimate. Interval estimates, on the other hand, provide a range of values within which the true population parameter is likely to lie.\n",
    "\n",
    "2. Interval Estimate:\n",
    "An interval estimate provides a range of values within which the true population parameter is expected to fall, along with a level of confidence or probability. It takes into account the uncertainty inherent in the estimation process. The most common type of interval estimate is the confidence interval.\n",
    "\n",
    "Confidence Interval: A confidence interval is a range of values that is likely to contain the true population parameter with a certain level of confidence. The confidence level is a measure of the probability that the interval contains the true value of the parameter. For example, a 95% confidence interval for the average height of students in a school might be [150 cm, 160 cm]. This means that we are 95% confident that the true population mean height lies within this range.\n",
    "\n",
    "The confidence interval's width depends on the sample size and the variability of the data. Larger sample sizes and lower variability lead to narrower confidence intervals, which provide a more precise estimate.\n",
    "\n",
    "In summary, estimation statistics involves using sample data to estimate unknown population parameters. Point estimates provide a single value as an estimate, while interval estimates provide a range of values along with a confidence level to account for the uncertainty associated with the estimation process."
   ]
  },
  {
   "cell_type": "markdown",
   "id": "84002b3b",
   "metadata": {},
   "source": [
    "## Q2. Write a Python function to estimate the population mean using a sample mean and standard deviation."
   ]
  },
  {
   "cell_type": "markdown",
   "id": "a6163d5d",
   "metadata": {},
   "source": [
    "## Q3: What is Hypothesis testing? Why is it used? State the importance of Hypothesis testing.\n",
    "\n",
    "Hypothesis testing is a fundamental statistical method used to make decisions about population parameters based on sample data. It involves formulating two competing hypotheses about a population parameter and then using sample data to determine which hypothesis is more likely to be true. The two main hypotheses are:\n",
    "\n",
    "1. Null Hypothesis (H0): This hypothesis represents the status quo or the default assumption. It states that there is no significant effect, no difference, or no relationship between variables in the population. It is often denoted as \"H0.\"\n",
    "\n",
    "2. Alternative Hypothesis (Ha or H1): This hypothesis contradicts the null hypothesis and proposes that there is a specific effect, difference, or relationship between variables in the population. It is what the researcher seeks evidence to support. It is denoted as \"Ha\" or \"H1.\"\n",
    "\n",
    "The goal of hypothesis testing is to determine whether there is enough evidence in the sample data to reject the null hypothesis in favor of the alternative hypothesis. The process involves the following steps:\n",
    "\n",
    "1. Formulate Hypotheses: Clearly state the null hypothesis and the alternative hypothesis based on the research question.\n",
    "\n",
    "2. Choose a Significance Level (α): The significance level, denoted as α (alpha), represents the threshold for deciding whether to reject the null hypothesis. Commonly used significance levels are 0.05 (5%) or 0.01 (1%).\n",
    "\n",
    "3. Collect Sample Data: Gather data from a sample that is representative of the population of interest.\n",
    "\n",
    "4. Perform Statistical Test: Apply an appropriate statistical test to the sample data, which depends on the type of data and the research question.\n",
    "\n",
    "5. Calculate the Test Statistic: The test statistic quantifies how far the sample result is from what would be expected under the null hypothesis.\n",
    "\n",
    "6. Determine the P-value: The P-value represents the probability of observing the sample result (or more extreme) under the assumption that the null hypothesis is true.\n",
    "\n",
    "7. Make a Decision: Compare the P-value to the significance level. If the P-value is less than or equal to α, we reject the null hypothesis in favor of the alternative hypothesis. Otherwise, we fail to reject the null hypothesis.\n",
    "\n",
    "Importance of Hypothesis Testing:\n",
    "\n",
    "1. Objectivity: Hypothesis testing provides a structured and objective approach to making statistical inferences about population parameters. It allows researchers to make evidence-based decisions rather than relying solely on intuition or personal beliefs.\n",
    "\n",
    "2. Scientific Rigor: By using hypothesis testing, researchers can evaluate their hypotheses rigorously and determine whether the observed results are likely to occur due to chance or due to a genuine effect.\n",
    "\n",
    "3. Inference about Populations: Hypothesis testing allows us to draw conclusions about entire populations based on sample data. This is crucial because it is often impractical or impossible to collect data from every individual in a population.\n",
    "\n",
    "4. Decision Making: Hypothesis testing helps in making informed decisions in various fields, including medicine, social sciences, engineering, and business. It aids in determining the effectiveness of treatments, the impact of interventions, and the validity of claims.\n",
    "\n",
    "5. Establishing Causality: Hypothesis testing, especially in experimental studies, helps establish causality by determining whether a specific intervention or treatment leads to a significant change or effect.\n",
    "\n",
    "In summary, hypothesis testing is a powerful tool for making statistical inferences, testing research hypotheses, and drawing conclusions about population parameters. It provides a structured and objective approach to decision-making in various fields of research and contributes to the scientific rigor of statistical analysis."
   ]
  },
  {
   "cell_type": "markdown",
   "id": "ba255894",
   "metadata": {},
   "source": [
    "## Q4. Create a hypothesis that states whether the average weight of male college students is greater than the average weight of female college students.\n",
    "\n",
    "Hypothesis testing requires formulating two competing hypotheses: the null hypothesis (H0) and the alternative hypothesis (Ha). In this case, we want to compare the average weight of male and female college students. Let's assume that μ1 represents the average weight of male college students, and μ2 represents the average weight of female college students.\n",
    "\n",
    "Null Hypothesis (H0): The average weight of male college students is equal to the average weight of female college students.\n",
    "\n",
    "H0: μ1 = μ2\n",
    "\n",
    "Alternative Hypothesis (Ha): The average weight of male college students is greater than the average weight of female college students.\n",
    "\n",
    "Ha: μ1 > μ2\n",
    "\n",
    "In words, the null hypothesis states that there is no significant difference or that male students' average weight is equal to female students' average weight. The alternative hypothesis, on the other hand, proposes that there is a significant difference, and male students have a greater average weight than female students.\n",
    "\n",
    "To test this hypothesis, you would collect weight data from a sample of male and female college students, perform appropriate statistical tests (e.g., t-test or Z-test) to compare the means, and then determine whether there is enough evidence to reject the null hypothesis in favor of the alternative hypothesis. The choice of statistical test depends on factors such as sample size, data distribution, and whether population standard deviations are known or estimated from the sample."
   ]
  },
  {
   "cell_type": "markdown",
   "id": "fa962558",
   "metadata": {},
   "source": [
    "## Q5. Write a Python script to conduct a hypothesis test on the difference between two population means, given a sample from each population."
   ]
  },
  {
   "cell_type": "code",
   "execution_count": 6,
   "id": "71eba700",
   "metadata": {},
   "outputs": [
    {
     "name": "stdout",
     "output_type": "stream",
     "text": [
      "Fail to reject the null hypothesis. There is no significant difference between the population means.\n"
     ]
    }
   ],
   "source": [
    "import numpy as np\n",
    "from scipy import stats\n",
    "\n",
    "def t_test(sample1,sample2,alpha=0.05):\n",
    "    mean1=np.mean(sample1)\n",
    "    mean2=np.mean(sample2)\n",
    "    n1=len(sample1)\n",
    "    n2=len(sample2)\n",
    "    std1=np.std(sample1)\n",
    "    std2=np.std(sample2)\n",
    "    \n",
    "    pooled_std=np.sqrt((((n1-1)*std1**2)+((n2-1)*std2**2))/(n1+n2-2))\n",
    "    \n",
    "    t_stats= (mean1-mean2)/(pooled_std*np.sqrt((1/n1)+(1/n2)))\n",
    "    \n",
    "    df=n1+n2-2\n",
    "    \n",
    "    critical_value = stats.t.ppf(1 - alpha/2, df)\n",
    "    \n",
    "    p_value = 2 * (1 - stats.t.cdf(np.abs(t_stats), df))\n",
    "    \n",
    "    if np.abs(t_stats) > critical_value or p_value < alpha:\n",
    "        print(\"Reject the null hypothesis. There is a significant difference between the population means.\")\n",
    "    else:\n",
    "        print(\"Fail to reject the null hypothesis. There is no significant difference between the population means.\")\n",
    "\n",
    "        \n",
    "sample1 = np.array([10, 12, 15, 14, 11])\n",
    "sample2 = np.array([8, 9, 12, 11, 10])\n",
    "alpha = 0.05\n",
    "\n",
    "t_test(sample1, sample2, alpha)"
   ]
  },
  {
   "cell_type": "markdown",
   "id": "d513d8be",
   "metadata": {},
   "source": [
    "## Q6: What is a null and alternative hypothesis? Give some examples.\n",
    "\n",
    "1. Null Hypothesis (H0): This hypothesis represents the status quo or the default assumption. It states that there is no significant effect, no difference, or no relationship between variables in the population. It is often denoted as \"H0.\"\n",
    "\n",
    "2. Alternative Hypothesis (Ha or H1): This hypothesis contradicts the null hypothesis and proposes that there is a specific effect, difference, or relationship between variables in the population. It is what the researcher seeks evidence to support. It is denoted as \"Ha\" or \"H1.\"\n",
    "   \n",
    "..\n",
    "1. Example 1 - Drug Efficacy:\n",
    "\n",
    "Null Hypothesis (H0): The new drug has no effect on patients' recovery time from the illness.\n",
    "\n",
    "Alternative Hypothesis (Ha): The new drug reduces patients' recovery time from the illness.\n",
    "\n",
    "2. Example 2 - Average Test Scores:\n",
    "\n",
    "Null Hypothesis (H0): The average test scores of students who received tutoring are the same as the average test scores of students who did not receive tutoring.\n",
    "\n",
    "Alternative Hypothesis (Ha): The average test scores of students who received tutoring are different from the average test scores of students who did not receive tutoring."
   ]
  },
  {
   "cell_type": "markdown",
   "id": "d40932b3",
   "metadata": {},
   "source": [
    "## Q7: Write down the steps involved in hypothesis testing.\n",
    "\n",
    "Formulate Hypotheses: Clearly state the null hypothesis and the alternative hypothesis based on the research question.\n",
    "\n",
    "Choose a Significance Level (α): The significance level, denoted as α (alpha), represents the threshold for deciding whether to reject the null hypothesis. Commonly used significance levels are 0.05 (5%) or 0.01 (1%).\n",
    "\n",
    "Collect Sample Data: Gather data from a sample that is representative of the population of interest.\n",
    "\n",
    "Perform Statistical Test: Apply an appropriate statistical test to the sample data, which depends on the type of data and the research question.\n",
    "\n",
    "Calculate the Test Statistic: The test statistic quantifies how far the sample result is from what would be expected under the null hypothesis.\n",
    "\n",
    "Determine the P-value: The P-value represents the probability of observing the sample result (or more extreme) under the assumption that the null hypothesis is true.\n",
    "\n",
    "Make a Decision: Compare the P-value to the significance level. If the P-value is less than or equal to α, we reject the null hypothesis in favor of the alternative hypothesis. Otherwise, we fail to reject the null hypothesis."
   ]
  },
  {
   "cell_type": "markdown",
   "id": "70fc2d0b",
   "metadata": {},
   "source": [
    "## Q8. Define p-value and explain its significance in hypothesis testing.\n",
    "\n",
    "In hypothesis testing, the p-value (probability value) is a crucial measure that quantifies the strength of evidence against the null hypothesis (H0). It indicates the probability of observing the sample data or more extreme data under the assumption that the null hypothesis is true. In other words, the p-value tells us how likely it is to obtain the observed results purely by chance, assuming that there is no real effect or difference in the population.\n",
    "\n",
    "The significance of the p-value in hypothesis testing can be understood as follows:\n",
    "\n",
    "1. **Interpretation of p-value:**\n",
    "   - A small p-value (typically less than the chosen significance level, often denoted as α) indicates strong evidence against the null hypothesis. It suggests that the observed results are unlikely to occur if the null hypothesis is true, leading to the rejection of the null hypothesis in favor of the alternative hypothesis.\n",
    "   - A large p-value (greater than α) indicates weak evidence against the null hypothesis. It suggests that the observed results are reasonably likely to occur even if the null hypothesis is true, leading to the failure to reject the null hypothesis.\n",
    "\n",
    "2. **Decision Rule:**\n",
    "   - If the p-value is less than or equal to the chosen significance level (α), we reject the null hypothesis. This means that the observed data is unlikely to have occurred by chance alone, and there is enough evidence to support the alternative hypothesis.\n",
    "   - If the p-value is greater than the chosen significance level (α), we fail to reject the null hypothesis. This means that the observed data is reasonably consistent with what we would expect under the null hypothesis, and there is not enough evidence to support the alternative hypothesis.\n",
    "\n",
    "3. **Significance Level (α):**\n",
    "   - The significance level (α) is the threshold set by the researcher before conducting the hypothesis test. It represents the maximum probability of making a Type I error (rejecting the null hypothesis when it is true). Commonly used values for α are 0.05 (5%) or 0.01 (1%).\n",
    "   - A smaller significance level implies a more stringent criterion for rejecting the null hypothesis. For example, if α = 0.01, the researcher requires stronger evidence to reject the null hypothesis compared to α = 0.05.\n"
   ]
  },
  {
   "cell_type": "markdown",
   "id": "8ab7de2f",
   "metadata": {},
   "source": [
    "## Q9. Generate a Student's t-distribution plot using Python's matplotlib library, with the degrees of freedom parameter set to 10."
   ]
  },
  {
   "cell_type": "code",
   "execution_count": 11,
   "id": "d8d4c03e",
   "metadata": {},
   "outputs": [
    {
     "data": {
      "image/png": "[encoded data removed]",
      "text/plain": [
       "<Figure size 800x600 with 1 Axes>"
      ]
     },
     "metadata": {},
     "output_type": "display_data"
    }
   ],
   "source": [
    "import numpy as np\n",
    "import scipy.stats as stats\n",
    "import matplotlib.pyplot as plt\n",
    "\n",
    "degrees_of_freedom = 10\n",
    "\n",
    "x = np.linspace(-4, 4, 1000)  \n",
    "t_dist = stats.t.pdf(x, df=degrees_of_freedom) \n",
    "\n",
    "plt.figure(figsize=(8, 6))\n",
    "plt.plot(x, t_dist, label=f\"Degrees of Freedom = {degrees_of_freedom}\")\n",
    "plt.xlabel('x')\n",
    "plt.ylabel('Probability Density')\n",
    "plt.title('Student\\'s t-distribution')\n",
    "plt.legend()\n",
    "plt.grid(True)\n",
    "plt.show()\n"
   ]
  },
  {
   "cell_type": "markdown",
   "id": "61d44c1a",
   "metadata": {},
   "source": [
    "## Q11: What is Student’s t distribution? When to use the t-Distribution.\n",
    "\n",
    "Student's t-distribution, often referred to simply as the t-distribution, is a probability distribution that arises in statistics and is used when working with small sample sizes or when the population standard deviation is unknown. It is a family of distributions that depends on a parameter called degrees of freedom.\n",
    "\n",
    "The t-distribution closely resembles the standard normal (Z) distribution, which is a normal distribution with a mean of 0 and a standard deviation of 1. However, the t-distribution has heavier tails, making it more spread out than the Z-distribution. As the degrees of freedom increase, the t-distribution approaches the Z-distribution.\n",
    "\n",
    "When to use the t-Distribution:\n",
    "\n",
    "1. **Small Sample Size:**\n",
    "   - When dealing with small sample sizes (typically n < 30), the t-distribution is more appropriate than the standard normal distribution. For large sample sizes, the t-distribution and the standard normal distribution provide similar results.\n",
    "\n",
    "2. **Unknown Population Standard Deviation:**\n",
    "   - When the population standard deviation is unknown, and it needs to be estimated from the sample standard deviation, the t-distribution is used for inference.\n",
    "   - For small sample sizes, using the sample standard deviation provides a better estimate of the population standard deviation, and the t-distribution accounts for the uncertainty introduced by the estimation process.\n",
    "\n",
    "3. **Hypothesis Testing and Confidence Intervals:**\n",
    "   - In hypothesis testing and constructing confidence intervals for population parameters (e.g., means, differences in means), the t-distribution is used when the sample size is small, and the population standard deviation is unknown.\n",
    "   - The t-distribution is used to calculate critical values, determine p-values, and construct confidence intervals in such cases.\n",
    "\n",
    "4. **Comparison of Means and Regression Analysis:**\n",
    "   - In situations where we compare means between two or more groups or perform regression analysis with small sample sizes, the t-distribution is used for calculating t-statistics and assessing statistical significance.\n",
    "\n"
   ]
  },
  {
   "cell_type": "markdown",
   "id": "86522677",
   "metadata": {},
   "source": [
    "## Q12: What is t-statistic? State the formula for t-statistic.\n",
    "\n",
    "The t-statistic (also known as the t-value) is a measure used in hypothesis testing to assess the difference between sample means and population means. It quantifies how many standard errors the sample mean is away from the hypothesized population mean (null hypothesis). The t-statistic is used when working with small sample sizes or when the population standard deviation is unknown.\n",
    "\n",
    "The formula for calculating the t-statistic for comparing the mean of a sample to a hypothesized population mean is as follows:\n",
    "\n",
    "t= x-mean/(s/sqrt(n))\n",
    "\n",
    "\n",
    "The t-statistic tells us how many standard errors the sample mean is away from the hypothesized population mean. A large t-statistic indicates a substantial difference between the sample mean and the hypothesized mean, providing evidence against the null hypothesis. On the other hand, a small t-statistic suggests that the sample mean is close to the hypothesized mean, supporting the null hypothesis.\n",
    "\n",
    "During hypothesis testing, we compare the calculated t-statistic to critical values from the t-distribution with appropriate degrees of freedom. The comparison helps us determine whether the observed difference between the sample mean and the hypothesized mean is statistically significant or if it could have occurred by chance alone. If the t-statistic is large enough (beyond the critical value), we reject the null hypothesis in favor of the alternative hypothesis. Otherwise, we fail to reject the null hypothesis."
   ]
  },
  {
   "cell_type": "markdown",
   "id": "87d8a538",
   "metadata": {},
   "source": [
    "## Q13. A coffee shop owner wants to estimate the average daily revenue for their shop. They take a random sample of 50 days and find the sample mean revenue to be 500 dollar with a standard deviation of 50 dollar. Estimate the population mean revenue with a 95% confidence interval.\n",
    "\n",
    "Since the sample size > 30, we used Z-test\n",
    "\n",
    "CI= x± z(s/sqrt(n))\n",
    "\n",
    "CI= 500 ± 1.96(50/sqrt(50))\n",
    "\n",
    "CI= 513.86 ,486.14\n",
    "\n",
    "So the mean lie between $513.86 and $486.14"
   ]
  },
  {
   "cell_type": "markdown",
   "id": "cf3e5946",
   "metadata": {},
   "source": [
    "## Q14. A researcher hypothesizes that a new drug will decrease blood pressure by 10 mmHg. They conduct a clinical trial with 100 patients and find that the sample mean decrease in blood pressure is 8 mmHg with a standard deviation of 3 mmHg. Test the hypothesis with a significance level of 0.05.\n",
    "\n",
    "H0: μ=10 mmHg\n",
    "\n",
    "H1: μ<10 mmHg\n",
    "\n",
    "We use Z test\n",
    "\n",
    "Z= x-μ/(s/sqrt(n))\n",
    "\n",
    "Z= 8-10/(3/sqrt(100))\n",
    "\n",
    "Z=-6.67\n",
    "\n",
    "Since critical value is -1.96 \n",
    "and -6.67< -1.96\n",
    "\n",
    "We reject null hypothsis"
   ]
  },
  {
   "cell_type": "markdown",
   "id": "c3cf9bbf",
   "metadata": {},
   "source": [
    "## Q15. An electronics company produces a certain type of product with a mean weight of 5 pounds and a standard deviation of 0.5 pounds. A random sample of 25 products is taken, and the sample mean weight is found to be 4.8 pounds. Test the hypothesis that the true mean weight of the products is less than 5 pounds with a significance level of 0.01.\n",
    "\n",
    "Since sample size(25) < 30\n",
    "We t-test\n",
    "\n",
    "H0: μ=5\n",
    "H1: μ<5\n",
    "\n",
    "t=x-μ/(s/sqrt(n))\n",
    "\n",
    "t=(4.8-5)/(0.5/sqrt(25)) \n",
    "\n",
    "t=-2\n",
    "\n",
    "df=25-1 =24\n",
    "\n",
    "critical value (at df=24, alpha=0.01)= -2.492\n",
    "\n",
    "Since -2 >-2.492\n",
    "\n",
    "We fail to reject null hypothesis"
   ]
  },
  {
   "cell_type": "markdown",
   "id": "21ce56af",
   "metadata": {},
   "source": [
    "## Q16. Two groups of students are given different study materials to prepare for a test. The first group (n1 =30) has a mean score of 80 with a standard deviation of 10, and the second group (n2 = 40) has a mean score of 75 with a standard deviation of 8. Test the hypothesis that the population means for the two groups are equal with a significance level of 0.01.\n",
    "\n",
    "H0: μ1 = μ2\n",
    "H1: μ1 != μ2\n",
    "\n",
    "We use t test since one sample size= 30 and t test approximates z test\n",
    "\n",
    "t=(x1-x2)/(sqrt((s1<sup>2</sup>/n1)+(s2<sup>2</sup>/n2))\n",
    "\n",
    "t= (80-75)/sqrt((10<sup>2</sup>/30)+(8<sup>2</sup>/40))\n",
    "\n",
    "t=2.25\n",
    "\n",
    "df= 30+40-2 = 68\n",
    "\n",
    "critical value (at df=68 and alpha =0.01)= 2.6506\n",
    "\n",
    "Since 2.25 < 2.6506\n",
    "\n",
    "We fail to reject the null hypothesis"
   ]
  },
  {
   "cell_type": "markdown",
   "id": "d158d778",
   "metadata": {},
   "source": [
    "## Q17. A marketing company wants to estimate the average number of ads watched by viewers during a TV program. They take a random sample of 50 viewers and find that the sample mean is 4 with a standard deviation of 1.5. Estimate the population mean with a 99% confidence interval.\n",
    "\n",
    "\n",
    "We use z test \n",
    "\n",
    "CI= x ± z(s/sqrt(n))\n",
    "\n",
    "CI = 4 ± 2.56(1.5/sqrt(50))\n",
    "\n",
    "CI = 4.54,3.45\n",
    "\n",
    "Therefore, the mean falls between 3.45 to 4.56"
   ]
  }
 ],
 "metadata": {
  "kernelspec": {
   "display_name": "Python 3 (ipykernel)",
   "language": "python",
   "name": "python3"
  },
  "language_info": {
   "codemirror_mode": {
    "name": "ipython",
    "version": 3
   },
   "file_extension": ".py",
   "mimetype": "text/x-python",
   "name": "python",
   "nbconvert_exporter": "python",
   "pygments_lexer": "ipython3",
   "version": "3.10.0"
  }
 },
 "nbformat": 4,
 "nbformat_minor": 5
}
